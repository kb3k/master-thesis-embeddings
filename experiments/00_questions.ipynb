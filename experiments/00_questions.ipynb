{
 "cells": [
  {
   "cell_type": "code",
   "execution_count": 1,
   "id": "06424013",
   "metadata": {},
   "outputs": [
    {
     "name": "stdout",
     "output_type": "stream",
     "text": [
      "Genism Version:  4.3.0\n"
     ]
    }
   ],
   "source": [
    "import pandas as pd\n",
    "import numpy as np\n",
    "\n",
    "from nltk.tokenize import word_tokenize\n",
    "from nltk.corpus import stopwords\n",
    "import string\n",
    "import re\n",
    "from nltk.stem.wordnet import WordNetLemmatizer\n",
    "import nltk\n",
    "import unicodedata\n",
    "\n",
    "from ast import literal_eval\n",
    "\n",
    "from gensim.models import Word2Vec\n",
    "import gensim\n",
    "print(\"Genism Version: \", gensim.__version__)"
   ]
  },
  {
   "cell_type": "code",
   "execution_count": 2,
   "id": "5448eca9",
   "metadata": {},
   "outputs": [],
   "source": [
    "question1 = \"I want to split a bottle of wine with my friends for a birthday. Were all most likely eating something different for dinner.\"\n",
    "question2 = \"Tonight I will be eating pasta at the Italian restaurant for dinner. I don't like sweet wines.\"\n",
    "question3 = \"I like Cabernets from Napa Valley\"\n",
    "question4 = \"I'm looking to try something different for my dinner tonight. I'm having a white fish and tend to go for acidic white wines.\"\n",
    "question5 = \"I don't know what I want.\"\n",
    "question6 = \"Do you have a red wine that is light? Not too heavy.\"\n",
    "question7 = \"Do you have any heavy flavorful red wines?\"\n",
    "question8 = \"I am looking for a dry white wine that's easy to drink.\"\n",
    "question9 = \"Wine is for snobs\"\n",
    "question10 = \"I am not normally a wine drinker. What do you recommend?\"\n",
    "question11 = \"I want to split a bottle of red wine with my friends for a birthday. Were all most likely eating something different for dinner.\"\n",
    "question12 = \"I like Cabernet Sauvignon s from Napa Valley\"\n",
    "\n",
    "questions = [question1, question2, \n",
    "             question3, question4, \n",
    "             question5, question6, \n",
    "             question7, question8, \n",
    "             question9, question10,\n",
    "             question11, question12\n",
    "            ]"
   ]
  },
  {
   "cell_type": "code",
   "execution_count": 3,
   "id": "52026ac8",
   "metadata": {},
   "outputs": [
    {
     "name": "stdout",
     "output_type": "stream",
     "text": [
      "Question 1 : I want to split a bottle of wine with my friends for a birthday. Were all most likely eating something different for dinner.\n",
      "Question 2 : Tonight I will be eating pasta at the Italian restaurant for dinner. I don't like sweet wines.\n",
      "Question 3 : I like Cabernets from Napa Valley\n",
      "Question 4 : I'm looking to try something different for my dinner tonight. I'm having a white fish and tend to go for acidic white wines.\n",
      "Question 5 : I don't know what I want.\n",
      "Question 6 : Do you have a red wine that is light? Not too heavy.\n",
      "Question 7 : Do you have any heavy flavorful red wines?\n",
      "Question 8 : I am looking for a dry white wine that's easy to drink.\n",
      "Question 9 : Wine is for snobs\n",
      "Question 10 : I am not normally a wine drinker. What do you recommend?\n",
      "Question 11 : I want to split a bottle of red wine with my friends for a birthday. Were all most likely eating something different for dinner.\n",
      "Question 12 : I like Cabernet Sauvignon s from Napa Valley\n"
     ]
    }
   ],
   "source": [
    "for idx, question in enumerate(questions):\n",
    "    print(f\"Question {idx+1} : {question}\")"
   ]
  },
  {
   "cell_type": "code",
   "execution_count": 4,
   "id": "d6e73880",
   "metadata": {},
   "outputs": [],
   "source": [
    "questions_df = pd.DataFrame(questions, columns=['question'])"
   ]
  },
  {
   "cell_type": "code",
   "execution_count": 5,
   "id": "fbde871c",
   "metadata": {},
   "outputs": [],
   "source": [
    "stop_words = stopwords.words('english')  + [\"wine\", 'vinho']\n",
    "punc = string.punctuation\n",
    "punc_less_underscore = punc.replace(\"_\", \"\")\n",
    "\n",
    "def strip_accents(STR):\n",
    "    return ''.join(c for c in unicodedata.normalize('NFD', STR)\n",
    "                   if unicodedata.category(c) != 'Mn')\n",
    "\n",
    "def preprocess_text(text):\n",
    "    \"\"\"\n",
    "    Preprocessing for efficient vectorization.\n",
    "       -- Removes tabs, newlines, punctuation, empty strings.\n",
    "             -- NOTE punctuation does not incl. underscore for things like acidity_category.\n",
    "       -- Lemmatizes with universal Part of Speech (POS) method.\n",
    "       -- Removes default English stopwords.\n",
    "    \"\"\"\n",
    "    \n",
    "    text = strip_accents(text)\n",
    "    text = re.sub(r'[^\\x00-\\x7F]', ' ', text) # removes any remaining non-ascii chars\n",
    "    \n",
    "    text = text.lower()\n",
    "    text = text.replace(\"\\t\", \" \")\n",
    "    text = text.replace(\"\\n\", \" \") \n",
    "    \n",
    "    re_punk = re.compile('[%s]' % re.escape(punc_less_underscore))\n",
    "    tokens = word_tokenize(text)\n",
    "    stripped_tkns = [re_punk.sub('', wxy) for wxy in tokens]\n",
    "    st0p = [word for word in stripped_tkns if not word in stop_words]\n",
    "    lemmatizer = WordNetLemmatizer()\n",
    "    p0s_st0p_list = nltk.tag.pos_tag(st0p, 'universal') \n",
    "    so_fresh_and_so_clean = []\n",
    "    for word, tag in p0s_st0p_list:\n",
    "        if tag == 'VERB':\n",
    "            tag = 'v'\n",
    "        elif tag == \"ADJ\":\n",
    "            tag = 'a'\n",
    "        elif tag == \"ADV\":\n",
    "            tag = 'r'\n",
    "        else:\n",
    "            tag = 'n'\n",
    "        so_fresh_and_so_clean.append(lemmatizer.lemmatize(word, tag)) \n",
    "    while \"\" in so_fresh_and_so_clean:\n",
    "        so_fresh_and_so_clean.remove(\"\")\n",
    "    while \" \" in so_fresh_and_so_clean:\n",
    "        so_fresh_and_so_clean.remove(\" \")\n",
    "    return \" \".join(so_fresh_and_so_clean)"
   ]
  },
  {
   "cell_type": "code",
   "execution_count": 6,
   "id": "152d54e4",
   "metadata": {},
   "outputs": [],
   "source": [
    "questions_df['processed_question_str'] = questions_df.question.apply(preprocess_text)\n",
    "questions_df['processed_question_tokens'] = questions_df.processed_question_str.apply(lambda xyz: xyz.split())"
   ]
  },
  {
   "cell_type": "code",
   "execution_count": 7,
   "id": "30740268",
   "metadata": {},
   "outputs": [
    {
     "data": {
      "text/html": [
       "<div>\n",
       "<style scoped>\n",
       "    .dataframe tbody tr th:only-of-type {\n",
       "        vertical-align: middle;\n",
       "    }\n",
       "\n",
       "    .dataframe tbody tr th {\n",
       "        vertical-align: top;\n",
       "    }\n",
       "\n",
       "    .dataframe thead th {\n",
       "        text-align: right;\n",
       "    }\n",
       "</style>\n",
       "<table border=\"1\" class=\"dataframe\">\n",
       "  <thead>\n",
       "    <tr style=\"text-align: right;\">\n",
       "      <th></th>\n",
       "      <th>question</th>\n",
       "      <th>processed_question_str</th>\n",
       "      <th>processed_question_tokens</th>\n",
       "    </tr>\n",
       "  </thead>\n",
       "  <tbody>\n",
       "    <tr>\n",
       "      <th>0</th>\n",
       "      <td>I want to split a bottle of wine with my frien...</td>\n",
       "      <td>want split bottle friend birthday likely eat s...</td>\n",
       "      <td>[want, split, bottle, friend, birthday, likely...</td>\n",
       "    </tr>\n",
       "    <tr>\n",
       "      <th>1</th>\n",
       "      <td>Tonight I will be eating pasta at the Italian ...</td>\n",
       "      <td>tonight eat pasta italian restaurant dinner nt...</td>\n",
       "      <td>[tonight, eat, pasta, italian, restaurant, din...</td>\n",
       "    </tr>\n",
       "    <tr>\n",
       "      <th>2</th>\n",
       "      <td>I like Cabernets from Napa Valley</td>\n",
       "      <td>like cabernet napa valley</td>\n",
       "      <td>[like, cabernet, napa, valley]</td>\n",
       "    </tr>\n",
       "    <tr>\n",
       "      <th>3</th>\n",
       "      <td>I'm looking to try something different for my ...</td>\n",
       "      <td>look try something different dinner tonight wh...</td>\n",
       "      <td>[look, try, something, different, dinner, toni...</td>\n",
       "    </tr>\n",
       "    <tr>\n",
       "      <th>4</th>\n",
       "      <td>I don't know what I want.</td>\n",
       "      <td>nt know want</td>\n",
       "      <td>[nt, know, want]</td>\n",
       "    </tr>\n",
       "    <tr>\n",
       "      <th>5</th>\n",
       "      <td>Do you have a red wine that is light? Not too ...</td>\n",
       "      <td>red light heavy</td>\n",
       "      <td>[red, light, heavy]</td>\n",
       "    </tr>\n",
       "    <tr>\n",
       "      <th>6</th>\n",
       "      <td>Do you have any heavy flavorful red wines?</td>\n",
       "      <td>heavy flavorful red wine</td>\n",
       "      <td>[heavy, flavorful, red, wine]</td>\n",
       "    </tr>\n",
       "    <tr>\n",
       "      <th>7</th>\n",
       "      <td>I am looking for a dry white wine that's easy ...</td>\n",
       "      <td>look dry white easy drink</td>\n",
       "      <td>[look, dry, white, easy, drink]</td>\n",
       "    </tr>\n",
       "    <tr>\n",
       "      <th>8</th>\n",
       "      <td>Wine is for snobs</td>\n",
       "      <td>snob</td>\n",
       "      <td>[snob]</td>\n",
       "    </tr>\n",
       "    <tr>\n",
       "      <th>9</th>\n",
       "      <td>I am not normally a wine drinker. What do you ...</td>\n",
       "      <td>normally drinker recommend</td>\n",
       "      <td>[normally, drinker, recommend]</td>\n",
       "    </tr>\n",
       "    <tr>\n",
       "      <th>10</th>\n",
       "      <td>I want to split a bottle of red wine with my f...</td>\n",
       "      <td>want split bottle red friend birthday likely e...</td>\n",
       "      <td>[want, split, bottle, red, friend, birthday, l...</td>\n",
       "    </tr>\n",
       "    <tr>\n",
       "      <th>11</th>\n",
       "      <td>I like Cabernet Sauvignon s from Napa Valley</td>\n",
       "      <td>like cabernet sauvignon napa valley</td>\n",
       "      <td>[like, cabernet, sauvignon, napa, valley]</td>\n",
       "    </tr>\n",
       "  </tbody>\n",
       "</table>\n",
       "</div>"
      ],
      "text/plain": [
       "                                             question  \\\n",
       "0   I want to split a bottle of wine with my frien...   \n",
       "1   Tonight I will be eating pasta at the Italian ...   \n",
       "2                   I like Cabernets from Napa Valley   \n",
       "3   I'm looking to try something different for my ...   \n",
       "4                           I don't know what I want.   \n",
       "5   Do you have a red wine that is light? Not too ...   \n",
       "6          Do you have any heavy flavorful red wines?   \n",
       "7   I am looking for a dry white wine that's easy ...   \n",
       "8                                   Wine is for snobs   \n",
       "9   I am not normally a wine drinker. What do you ...   \n",
       "10  I want to split a bottle of red wine with my f...   \n",
       "11       I like Cabernet Sauvignon s from Napa Valley   \n",
       "\n",
       "                               processed_question_str  \\\n",
       "0   want split bottle friend birthday likely eat s...   \n",
       "1   tonight eat pasta italian restaurant dinner nt...   \n",
       "2                           like cabernet napa valley   \n",
       "3   look try something different dinner tonight wh...   \n",
       "4                                        nt know want   \n",
       "5                                     red light heavy   \n",
       "6                            heavy flavorful red wine   \n",
       "7                           look dry white easy drink   \n",
       "8                                                snob   \n",
       "9                          normally drinker recommend   \n",
       "10  want split bottle red friend birthday likely e...   \n",
       "11                like cabernet sauvignon napa valley   \n",
       "\n",
       "                            processed_question_tokens  \n",
       "0   [want, split, bottle, friend, birthday, likely...  \n",
       "1   [tonight, eat, pasta, italian, restaurant, din...  \n",
       "2                      [like, cabernet, napa, valley]  \n",
       "3   [look, try, something, different, dinner, toni...  \n",
       "4                                    [nt, know, want]  \n",
       "5                                 [red, light, heavy]  \n",
       "6                       [heavy, flavorful, red, wine]  \n",
       "7                     [look, dry, white, easy, drink]  \n",
       "8                                              [snob]  \n",
       "9                      [normally, drinker, recommend]  \n",
       "10  [want, split, bottle, red, friend, birthday, l...  \n",
       "11          [like, cabernet, sauvignon, napa, valley]  "
      ]
     },
     "execution_count": 7,
     "metadata": {},
     "output_type": "execute_result"
    }
   ],
   "source": [
    "questions_df"
   ]
  },
  {
   "cell_type": "code",
   "execution_count": 8,
   "id": "952e7566",
   "metadata": {},
   "outputs": [],
   "source": [
    "filtered_bigram = pd.read_csv('../data/filtered_bigrams.csv', converters={\"bigram\": literal_eval})"
   ]
  },
  {
   "cell_type": "code",
   "execution_count": 9,
   "id": "3d34ccf5",
   "metadata": {},
   "outputs": [
    {
     "data": {
      "text/html": [
       "<div>\n",
       "<style scoped>\n",
       "    .dataframe tbody tr th:only-of-type {\n",
       "        vertical-align: middle;\n",
       "    }\n",
       "\n",
       "    .dataframe tbody tr th {\n",
       "        vertical-align: top;\n",
       "    }\n",
       "\n",
       "    .dataframe thead th {\n",
       "        text-align: right;\n",
       "    }\n",
       "</style>\n",
       "<table border=\"1\" class=\"dataframe\">\n",
       "  <thead>\n",
       "    <tr style=\"text-align: right;\">\n",
       "      <th></th>\n",
       "      <th>bigram</th>\n",
       "      <th>pmi</th>\n",
       "    </tr>\n",
       "  </thead>\n",
       "  <tbody>\n",
       "    <tr>\n",
       "      <th>0</th>\n",
       "      <td>(hong, kong)</td>\n",
       "      <td>17.144110</td>\n",
       "    </tr>\n",
       "    <tr>\n",
       "      <th>1</th>\n",
       "      <td>(1 3545217 ambassador, petrolhead)</td>\n",
       "      <td>17.028632</td>\n",
       "    </tr>\n",
       "    <tr>\n",
       "      <th>2</th>\n",
       "      <td>(1 1260249 robbie, priddle)</td>\n",
       "      <td>17.028632</td>\n",
       "    </tr>\n",
       "    <tr>\n",
       "      <th>3</th>\n",
       "      <td>(antao, vaz)</td>\n",
       "      <td>17.027633</td>\n",
       "    </tr>\n",
       "    <tr>\n",
       "      <th>4</th>\n",
       "      <td>(1 15397767 aaron, blazer)</td>\n",
       "      <td>16.887770</td>\n",
       "    </tr>\n",
       "  </tbody>\n",
       "</table>\n",
       "</div>"
      ],
      "text/plain": [
       "                               bigram        pmi\n",
       "0                        (hong, kong)  17.144110\n",
       "1  (1 3545217 ambassador, petrolhead)  17.028632\n",
       "2         (1 1260249 robbie, priddle)  17.028632\n",
       "3                        (antao, vaz)  17.027633\n",
       "4          (1 15397767 aaron, blazer)  16.887770"
      ]
     },
     "execution_count": 9,
     "metadata": {},
     "output_type": "execute_result"
    }
   ],
   "source": [
    "filtered_bigram.head()"
   ]
  },
  {
   "cell_type": "code",
   "execution_count": 10,
   "id": "a84aaa02",
   "metadata": {},
   "outputs": [
    {
     "data": {
      "text/html": [
       "<div>\n",
       "<style scoped>\n",
       "    .dataframe tbody tr th:only-of-type {\n",
       "        vertical-align: middle;\n",
       "    }\n",
       "\n",
       "    .dataframe tbody tr th {\n",
       "        vertical-align: top;\n",
       "    }\n",
       "\n",
       "    .dataframe thead th {\n",
       "        text-align: right;\n",
       "    }\n",
       "</style>\n",
       "<table border=\"1\" class=\"dataframe\">\n",
       "  <thead>\n",
       "    <tr style=\"text-align: right;\">\n",
       "      <th></th>\n",
       "      <th>bigram</th>\n",
       "      <th>pmi</th>\n",
       "    </tr>\n",
       "  </thead>\n",
       "  <tbody>\n",
       "    <tr>\n",
       "      <th>777</th>\n",
       "      <td>(cabernet, sauvignon)</td>\n",
       "      <td>8.694494</td>\n",
       "    </tr>\n",
       "  </tbody>\n",
       "</table>\n",
       "</div>"
      ],
      "text/plain": [
       "                    bigram       pmi\n",
       "777  (cabernet, sauvignon)  8.694494"
      ]
     },
     "execution_count": 10,
     "metadata": {},
     "output_type": "execute_result"
    }
   ],
   "source": [
    "filtered_bigram[filtered_bigram.bigram==('cabernet','sauvignon')]"
   ]
  },
  {
   "cell_type": "code",
   "execution_count": 11,
   "id": "40405823",
   "metadata": {},
   "outputs": [
    {
     "data": {
      "text/plain": [
       "(4944, 2)"
      ]
     },
     "execution_count": 11,
     "metadata": {},
     "output_type": "execute_result"
    }
   ],
   "source": [
    "filtered_bigram.shape"
   ]
  },
  {
   "cell_type": "code",
   "execution_count": 12,
   "id": "afc20cd2",
   "metadata": {},
   "outputs": [],
   "source": [
    "bigrams = [' '.join(x) for x in filtered_bigram.bigram.values if len(x[0]) > 2 or len(x[1]) > 2]\n",
    "\n",
    "def replace_ngram(x):\n",
    "    print(x)\n",
    "    for gram in bigrams:\n",
    "        x = x.replace(gram, '_'.join(gram.split()))\n",
    "    print(x)\n",
    "    return x"
   ]
  },
  {
   "cell_type": "code",
   "execution_count": 13,
   "id": "0d428936",
   "metadata": {},
   "outputs": [
    {
     "name": "stdout",
     "output_type": "stream",
     "text": [
      "want split bottle friend birthday likely eat something different dinner\n",
      "want split bottle friend birthday likely eat something_different dinner\n",
      "tonight eat pasta italian restaurant dinner nt like sweet wine\n",
      "tonight eat pasta italian_restaurant dinner nt like sweet wine\n",
      "like cabernet napa valley\n",
      "like cabernet napa_valley\n",
      "look try something different dinner tonight white fish tend go acidic white wine\n",
      "look try_something_different dinner tonight white_fish tend go acidic white_wine\n",
      "nt know want\n",
      "nt know want\n",
      "red light heavy\n",
      "red light heavy\n",
      "heavy flavorful red wine\n",
      "heavy flavorful red wine\n",
      "look dry white easy drink\n",
      "look dry white easy_drink\n",
      "snob\n",
      "snob\n",
      "normally drinker recommend\n",
      "normally drinker recommend\n",
      "want split bottle red friend birthday likely eat something different dinner\n",
      "want split bottle red friend birthday likely eat something_different dinner\n",
      "like cabernet sauvignon napa valley\n",
      "like cabernet_sauvignon napa_valley\n"
     ]
    }
   ],
   "source": [
    "questions_df['processed_question_str'] = questions_df.processed_question_str.map(lambda x: replace_ngram(x))"
   ]
  },
  {
   "cell_type": "code",
   "execution_count": 14,
   "id": "22ccf1db",
   "metadata": {},
   "outputs": [],
   "source": [
    "#questions_df[['question', 'processed_question_str']].to_csv(\"../data/questions.csv\", index=False)\n",
    "questions_df.to_csv(\"../data/questions.csv\", index=False)"
   ]
  }
 ],
 "metadata": {
  "kernelspec": {
   "display_name": "wine-chatbot-rec",
   "language": "python",
   "name": "wine-chatbot-rec"
  },
  "language_info": {
   "codemirror_mode": {
    "name": "ipython",
    "version": 3
   },
   "file_extension": ".py",
   "mimetype": "text/x-python",
   "name": "python",
   "nbconvert_exporter": "python",
   "pygments_lexer": "ipython3",
   "version": "3.10.0"
  }
 },
 "nbformat": 4,
 "nbformat_minor": 5
}
